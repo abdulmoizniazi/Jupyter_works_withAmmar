{
 "cells": [
  {
   "cell_type": "markdown",
   "id": "e0741dd6",
   "metadata": {},
   "source": [
    "# Basic data structure in Python\n",
    "\n",
    "## 1- Tuples () braces/parenthesis, different types of elements, unmutable/unchangeable once stored \n",
    "## 2- List \n",
    "## 3- Dictionaries\n",
    "## 4- Set"
   ]
  },
  {
   "cell_type": "code",
   "execution_count": 3,
   "id": "e0798cc8",
   "metadata": {},
   "outputs": [
    {
     "data": {
      "text/plain": [
       "(1, 'python', True, 2.5)"
      ]
     },
     "execution_count": 3,
     "metadata": {},
     "output_type": "execute_result"
    }
   ],
   "source": [
    "tup1 = (1, \"python\", True, 2.5)\n",
    "tup1"
   ]
  },
  {
   "cell_type": "code",
   "execution_count": 4,
   "id": "c8ea414e",
   "metadata": {},
   "outputs": [
    {
     "data": {
      "text/plain": [
       "tuple"
      ]
     },
     "execution_count": 4,
     "metadata": {},
     "output_type": "execute_result"
    }
   ],
   "source": [
    "type(tup1)"
   ]
  },
  {
   "cell_type": "markdown",
   "id": "5d412629",
   "metadata": {},
   "source": [
    "### - Indexing in tuple\n"
   ]
  },
  {
   "cell_type": "code",
   "execution_count": 5,
   "id": "c6b9859a",
   "metadata": {},
   "outputs": [
    {
     "data": {
      "text/plain": [
       "'python'"
      ]
     },
     "execution_count": 5,
     "metadata": {},
     "output_type": "execute_result"
    }
   ],
   "source": [
    "tup1[1]"
   ]
  },
  {
   "cell_type": "code",
   "execution_count": 6,
   "id": "50617726",
   "metadata": {},
   "outputs": [
    {
     "data": {
      "text/plain": [
       "4"
      ]
     },
     "execution_count": 6,
     "metadata": {},
     "output_type": "execute_result"
    }
   ],
   "source": [
    "len(tup1)"
   ]
  },
  {
   "cell_type": "code",
   "execution_count": 12,
   "id": "2190f2c1",
   "metadata": {},
   "outputs": [
    {
     "data": {
      "text/plain": [
       "(1, 'python', True, 2.5)"
      ]
     },
     "execution_count": 12,
     "metadata": {},
     "output_type": "execute_result"
    }
   ],
   "source": [
    "tup1[0:3]\n",
    "tup1[0:4]"
   ]
  },
  {
   "cell_type": "code",
   "execution_count": 14,
   "id": "fba8eb1c",
   "metadata": {},
   "outputs": [
    {
     "data": {
      "text/plain": [
       "(2, 'data scientist', 3.5, False)"
      ]
     },
     "execution_count": 14,
     "metadata": {},
     "output_type": "execute_result"
    }
   ],
   "source": [
    "tup2 = (2, \"data scientist\", 3.5, False)\n",
    "tup2"
   ]
  },
  {
   "cell_type": "code",
   "execution_count": 15,
   "id": "c1defd72",
   "metadata": {},
   "outputs": [
    {
     "data": {
      "text/plain": [
       "(1, 'python', True, 2.5, 2, 'data scientist', 3.5, False)"
      ]
     },
     "execution_count": 15,
     "metadata": {},
     "output_type": "execute_result"
    }
   ],
   "source": [
    "tup1 + tup2"
   ]
  },
  {
   "cell_type": "code",
   "execution_count": 17,
   "id": "1e5ecc79",
   "metadata": {},
   "outputs": [
    {
     "data": {
      "text/plain": [
       "(1,\n",
       " 'python',\n",
       " True,\n",
       " 2.5,\n",
       " 1,\n",
       " 'python',\n",
       " True,\n",
       " 2.5,\n",
       " 2,\n",
       " 'data scientist',\n",
       " 3.5,\n",
       " False)"
      ]
     },
     "execution_count": 17,
     "metadata": {},
     "output_type": "execute_result"
    }
   ],
   "source": [
    "tup1*2 + tup2"
   ]
  },
  {
   "cell_type": "code",
   "execution_count": 21,
   "id": "7a1722c5",
   "metadata": {},
   "outputs": [
    {
     "data": {
      "text/plain": [
       "(20, 30, 50, 60, 79, 85)"
      ]
     },
     "execution_count": 21,
     "metadata": {},
     "output_type": "execute_result"
    }
   ],
   "source": [
    "tup3 = (20, 30, 50, 60, 79, 85)\n",
    "tup3"
   ]
  },
  {
   "cell_type": "code",
   "execution_count": 25,
   "id": "2aa56420",
   "metadata": {},
   "outputs": [
    {
     "data": {
      "text/plain": [
       "85"
      ]
     },
     "execution_count": 25,
     "metadata": {},
     "output_type": "execute_result"
    }
   ],
   "source": [
    "min(tup3)\n",
    "max(tup3)"
   ]
  },
  {
   "cell_type": "code",
   "execution_count": 37,
   "id": "89119389",
   "metadata": {
    "scrolled": true
   },
   "outputs": [
    {
     "ename": "SyntaxError",
     "evalue": "invalid syntax (Temp/ipykernel_4980/1947214667.py, line 1)",
     "output_type": "error",
     "traceback": [
      "\u001b[1;36m  File \u001b[1;32m\"C:\\Users\\Dell\\AppData\\Local\\Temp/ipykernel_4980/1947214667.py\"\u001b[1;36m, line \u001b[1;32m1\u001b[0m\n\u001b[1;33m    ---\u001b[0m\n\u001b[1;37m       ^\u001b[0m\n\u001b[1;31mSyntaxError\u001b[0m\u001b[1;31m:\u001b[0m invalid syntax\n"
     ]
    }
   ],
   "source": [
    "--------------------------------------------------------------------------------------------------------------------------------"
   ]
  },
  {
   "cell_type": "markdown",
   "id": "576a627a",
   "metadata": {},
   "source": [
    "## Lists\n",
    "collection of elements\n",
    "[]\n",
    "mutable changeable\n"
   ]
  },
  {
   "cell_type": "code",
   "execution_count": 38,
   "id": "70912ae0",
   "metadata": {},
   "outputs": [
    {
     "data": {
      "text/plain": [
       "[2, 'data scientist', False]"
      ]
     },
     "execution_count": 38,
     "metadata": {},
     "output_type": "execute_result"
    }
   ],
   "source": [
    "lis1 = [2, \"data scientist\", False]\n",
    "lis1"
   ]
  },
  {
   "cell_type": "code",
   "execution_count": 97,
   "id": "9454ea00",
   "metadata": {},
   "outputs": [
    {
     "data": {
      "text/plain": [
       "list"
      ]
     },
     "execution_count": 97,
     "metadata": {},
     "output_type": "execute_result"
    }
   ],
   "source": [
    "type(lis1)"
   ]
  },
  {
   "cell_type": "code",
   "execution_count": 39,
   "id": "4761e165",
   "metadata": {},
   "outputs": [
    {
     "data": {
      "text/plain": [
       "3"
      ]
     },
     "execution_count": 39,
     "metadata": {},
     "output_type": "execute_result"
    }
   ],
   "source": [
    "len(lis1)"
   ]
  },
  {
   "cell_type": "code",
   "execution_count": 41,
   "id": "c0bf4f09",
   "metadata": {},
   "outputs": [
    {
     "data": {
      "text/plain": [
       "'data scientist'"
      ]
     },
     "execution_count": 41,
     "metadata": {},
     "output_type": "execute_result"
    }
   ],
   "source": [
    "lis1[1]"
   ]
  },
  {
   "cell_type": "code",
   "execution_count": 42,
   "id": "b59175a1",
   "metadata": {},
   "outputs": [
    {
     "data": {
      "text/plain": [
       "[3, 5, 'data', 'scientist', 666, 5.46, False]"
      ]
     },
     "execution_count": 42,
     "metadata": {},
     "output_type": "execute_result"
    }
   ],
   "source": [
    "lis2 = [3, 5, \"data\", \"scientist\", 666, 5.46, False]\n",
    "lis2"
   ]
  },
  {
   "cell_type": "code",
   "execution_count": 43,
   "id": "7c8bdd7a",
   "metadata": {},
   "outputs": [
    {
     "data": {
      "text/plain": [
       "[2, 'data scientist', False, 3, 5, 'data', 'scientist', 666, 5.46, False]"
      ]
     },
     "execution_count": 43,
     "metadata": {},
     "output_type": "execute_result"
    }
   ],
   "source": [
    "lis1 + lis2"
   ]
  },
  {
   "cell_type": "code",
   "execution_count": 44,
   "id": "d010ec2e",
   "metadata": {},
   "outputs": [
    {
     "data": {
      "text/plain": [
       "[2,\n",
       " 'data scientist',\n",
       " False,\n",
       " 2,\n",
       " 'data scientist',\n",
       " False,\n",
       " 3,\n",
       " 5,\n",
       " 'data',\n",
       " 'scientist',\n",
       " 666,\n",
       " 5.46,\n",
       " False]"
      ]
     },
     "execution_count": 44,
     "metadata": {},
     "output_type": "execute_result"
    }
   ],
   "source": [
    "lis1*2 + lis2"
   ]
  },
  {
   "cell_type": "code",
   "execution_count": 48,
   "id": "8cf2677c",
   "metadata": {},
   "outputs": [
    {
     "data": {
      "text/plain": [
       "[False, 'data scientist', 2]"
      ]
     },
     "execution_count": 48,
     "metadata": {},
     "output_type": "execute_result"
    }
   ],
   "source": [
    "lis1.reverse()\n",
    "lis1"
   ]
  },
  {
   "cell_type": "code",
   "execution_count": 53,
   "id": "e4a50c9c",
   "metadata": {},
   "outputs": [
    {
     "data": {
      "text/plain": [
       "[False, 'data scientist', 2, 'MERN', 'MERN', 'MERN', 'MERN', 'MERN']"
      ]
     },
     "execution_count": 53,
     "metadata": {},
     "output_type": "execute_result"
    }
   ],
   "source": [
    "lis1.append(\"MERN\")\n",
    "lis1"
   ]
  },
  {
   "cell_type": "code",
   "execution_count": 57,
   "id": "e3e7aaa1",
   "metadata": {},
   "outputs": [
    {
     "data": {
      "text/plain": [
       "[False, 'data scientist', 2, 'MERN']"
      ]
     },
     "execution_count": 57,
     "metadata": {},
     "output_type": "execute_result"
    }
   ],
   "source": [
    "lis1.remove(\"MERN\")\n",
    "lis1"
   ]
  },
  {
   "cell_type": "code",
   "execution_count": 66,
   "id": "05e7c43c",
   "metadata": {},
   "outputs": [
    {
     "data": {
      "text/plain": [
       "1"
      ]
     },
     "execution_count": 66,
     "metadata": {},
     "output_type": "execute_result"
    }
   ],
   "source": [
    "lis1.count(2)\n"
   ]
  },
  {
   "cell_type": "code",
   "execution_count": 67,
   "id": "ca502ab8",
   "metadata": {},
   "outputs": [
    {
     "data": {
      "text/plain": [
       "[56, 64, 498, 321, 48, 52, 56, 15, 45, 36, 4]"
      ]
     },
     "execution_count": 67,
     "metadata": {},
     "output_type": "execute_result"
    }
   ],
   "source": [
    "lis3 = [56, 64, 498, 321, 48, 52, 56, 15, 45, 36, 4]\n",
    "lis3"
   ]
  },
  {
   "cell_type": "code",
   "execution_count": 68,
   "id": "149d3679",
   "metadata": {},
   "outputs": [
    {
     "data": {
      "text/plain": [
       "11"
      ]
     },
     "execution_count": 68,
     "metadata": {},
     "output_type": "execute_result"
    }
   ],
   "source": [
    "len(lis3)"
   ]
  },
  {
   "cell_type": "code",
   "execution_count": 70,
   "id": "8c3f3ee1",
   "metadata": {},
   "outputs": [
    {
     "data": {
      "text/plain": [
       "[4, 15, 36, 45, 48, 52, 56, 56, 64, 321, 498]"
      ]
     },
     "execution_count": 70,
     "metadata": {},
     "output_type": "execute_result"
    }
   ],
   "source": [
    "lis3.sort()\n",
    "lis3"
   ]
  },
  {
   "cell_type": "code",
   "execution_count": null,
   "id": "8b55fd39",
   "metadata": {},
   "outputs": [],
   "source": [
    "-----------------------------------------------------------------------------------------------------------------------------"
   ]
  },
  {
   "cell_type": "markdown",
   "id": "5eda093f",
   "metadata": {},
   "source": [
    "# dictionaries\n",
    "\n",
    "unordered collection of elements\n",
    "key and value\n",
    "{}\n",
    "mutable/changeable values"
   ]
  },
  {
   "cell_type": "code",
   "execution_count": 82,
   "id": "c388df01",
   "metadata": {},
   "outputs": [
    {
     "data": {
      "text/plain": [
       "{'samosy': 30, 'pakore': 100, 'raita': 30, 'salad': 50, 'chicken rolls': 30}"
      ]
     },
     "execution_count": 82,
     "metadata": {},
     "output_type": "execute_result"
    }
   ],
   "source": [
    "#food and prices\n",
    "food1 = {\"samosy\": 30, \"pakore\": 100, \"raita\": 30, \"salad\": 50, \"chicken rolls\": 30}\n",
    "food1"
   ]
  },
  {
   "cell_type": "code",
   "execution_count": 83,
   "id": "029c61d2",
   "metadata": {},
   "outputs": [
    {
     "data": {
      "text/plain": [
       "dict"
      ]
     },
     "execution_count": 83,
     "metadata": {},
     "output_type": "execute_result"
    }
   ],
   "source": [
    "type(food1)"
   ]
  },
  {
   "cell_type": "code",
   "execution_count": 86,
   "id": "94d0257a",
   "metadata": {},
   "outputs": [
    {
     "data": {
      "text/plain": [
       "dict_keys(['samosy', 'pakore', 'raita', 'salad', 'chicken rolls'])"
      ]
     },
     "execution_count": 86,
     "metadata": {},
     "output_type": "execute_result"
    }
   ],
   "source": [
    "# extract data\n",
    "key1 = food1.keys()\n",
    "key1"
   ]
  },
  {
   "cell_type": "code",
   "execution_count": 87,
   "id": "6dd8801c",
   "metadata": {},
   "outputs": [
    {
     "data": {
      "text/plain": [
       "dict_values([30, 100, 30, 50, 30])"
      ]
     },
     "execution_count": 87,
     "metadata": {},
     "output_type": "execute_result"
    }
   ],
   "source": [
    "val1 = food1.values()\n",
    "val1"
   ]
  },
  {
   "cell_type": "code",
   "execution_count": 88,
   "id": "dd0d5f7f",
   "metadata": {},
   "outputs": [
    {
     "data": {
      "text/plain": [
       "{'samosy': 30,\n",
       " 'pakore': 100,\n",
       " 'raita': 30,\n",
       " 'salad': 50,\n",
       " 'chicken rolls': 30,\n",
       " 'tikki': 10}"
      ]
     },
     "execution_count": 88,
     "metadata": {},
     "output_type": "execute_result"
    }
   ],
   "source": [
    "food1[\"tikki\"] = 10\n",
    "food1"
   ]
  },
  {
   "cell_type": "code",
   "execution_count": 89,
   "id": "27043279",
   "metadata": {},
   "outputs": [
    {
     "data": {
      "text/plain": [
       "{'samosy': 30,\n",
       " 'pakore': 100,\n",
       " 'raita': 30,\n",
       " 'salad': 50,\n",
       " 'chicken rolls': 30,\n",
       " 'tikki': 15}"
      ]
     },
     "execution_count": 89,
     "metadata": {},
     "output_type": "execute_result"
    }
   ],
   "source": [
    "food1[\"tikki\"] = 15\n",
    "food1"
   ]
  },
  {
   "cell_type": "code",
   "execution_count": 90,
   "id": "2f30309e",
   "metadata": {},
   "outputs": [
    {
     "data": {
      "text/plain": [
       "{'dates': 700, 'chocolates': 500, 'sawayyan': 1000}"
      ]
     },
     "execution_count": 90,
     "metadata": {},
     "output_type": "execute_result"
    }
   ],
   "source": [
    "food2 = {\"dates\":700, \"chocolates\":500, \"sawayyan\":1000}\n",
    "food2"
   ]
  },
  {
   "cell_type": "code",
   "execution_count": 93,
   "id": "9d3a4c91",
   "metadata": {},
   "outputs": [
    {
     "data": {
      "text/plain": [
       "{'samosy': 30,\n",
       " 'pakore': 100,\n",
       " 'raita': 30,\n",
       " 'salad': 50,\n",
       " 'chicken rolls': 30,\n",
       " 'tikki': 15,\n",
       " 'dates': 700,\n",
       " 'chocolates': 500,\n",
       " 'sawayyan': 1000}"
      ]
     },
     "execution_count": 93,
     "metadata": {},
     "output_type": "execute_result"
    }
   ],
   "source": [
    "food1.update(food2)\n",
    "food1"
   ]
  },
  {
   "cell_type": "code",
   "execution_count": null,
   "id": "ea3c24e1",
   "metadata": {},
   "outputs": [],
   "source": [
    "----------------------------------------------------------------------------------------------------------------------------"
   ]
  },
  {
   "cell_type": "markdown",
   "id": "0ace8a15",
   "metadata": {},
   "source": [
    "# sets\n",
    "unordered & unindexed\n",
    "{}\n",
    "no duplicates"
   ]
  },
  {
   "cell_type": "code",
   "execution_count": 95,
   "id": "5c7fd235",
   "metadata": {},
   "outputs": [
    {
     "data": {
      "text/plain": [
       "{25, 654, 7.8, 'data', 'scientist'}"
      ]
     },
     "execution_count": 95,
     "metadata": {},
     "output_type": "execute_result"
    }
   ],
   "source": [
    "s1 = {25, 7.8, 654, \"data\", \"scientist\"}\n",
    "s1"
   ]
  },
  {
   "cell_type": "code",
   "execution_count": 96,
   "id": "3ffa0b04",
   "metadata": {},
   "outputs": [
    {
     "data": {
      "text/plain": [
       "set"
      ]
     },
     "execution_count": 96,
     "metadata": {},
     "output_type": "execute_result"
    }
   ],
   "source": [
    "type(s1)"
   ]
  },
  {
   "cell_type": "code",
   "execution_count": 99,
   "id": "4f6125a4",
   "metadata": {},
   "outputs": [
    {
     "data": {
      "text/plain": [
       "{25, 654, 7.8, 'data', 'moiz', 'scientist'}"
      ]
     },
     "execution_count": 99,
     "metadata": {},
     "output_type": "execute_result"
    }
   ],
   "source": [
    "s1.add(\"moiz\")\n",
    "s1"
   ]
  },
  {
   "cell_type": "code",
   "execution_count": 108,
   "id": "c53e6e65",
   "metadata": {},
   "outputs": [
    {
     "data": {
      "text/plain": [
       "{25, 654, 7.8, 'data', 'moiz'}"
      ]
     },
     "execution_count": 108,
     "metadata": {},
     "output_type": "execute_result"
    }
   ],
   "source": [
    "s1.remove(\"scientist\")\n",
    "s1"
   ]
  },
  {
   "cell_type": "code",
   "execution_count": null,
   "id": "cb6695d7",
   "metadata": {},
   "outputs": [],
   "source": []
  },
  {
   "cell_type": "code",
   "execution_count": null,
   "id": "b0bdc202",
   "metadata": {},
   "outputs": [],
   "source": []
  },
  {
   "cell_type": "code",
   "execution_count": null,
   "id": "cc1dd156",
   "metadata": {},
   "outputs": [],
   "source": []
  }
 ],
 "metadata": {
  "kernelspec": {
   "display_name": "Python 3.9.7 ('base')",
   "language": "python",
   "name": "python3"
  },
  "language_info": {
   "codemirror_mode": {
    "name": "ipython",
    "version": 3
   },
   "file_extension": ".py",
   "mimetype": "text/x-python",
   "name": "python",
   "nbconvert_exporter": "python",
   "pygments_lexer": "ipython3",
   "version": "3.9.7"
  },
  "vscode": {
   "interpreter": {
    "hash": "ad2bdc8ecc057115af97d19610ffacc2b4e99fae6737bb82f5d7fb13d2f2c186"
   }
  }
 },
 "nbformat": 4,
 "nbformat_minor": 5
}
